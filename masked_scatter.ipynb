{
 "cells": [
  {
   "cell_type": "code",
   "execution_count": 1,
   "metadata": {},
   "outputs": [],
   "source": [
    "import torch\n",
    "\n"
   ]
  },
  {
   "cell_type": "markdown",
   "metadata": {},
   "source": [
    "### Exercise 1: Basic Replacement (1D)\n",
    "\n",
    "Replace all negative values in the tensor `x` with values from `src`."
   ]
  },
  {
   "cell_type": "code",
   "execution_count": 3,
   "metadata": {},
   "outputs": [
    {
     "data": {
      "text/plain": [
       "tensor([ 3, 10,  4, 20,  2])"
      ]
     },
     "execution_count": 3,
     "metadata": {},
     "output_type": "execute_result"
    }
   ],
   "source": [
    "x = torch.tensor([3, -1, 4, -5, 2])\n",
    "src = torch.tensor([10, 20])\n",
    "\n",
    "# TODO: Replace negative elements in x using masked_scatter\n",
    "\n",
    "mask = x < 0\n",
    "result = torch.masked_scatter(x, mask, src)\n",
    "result"
   ]
  },
  {
   "cell_type": "markdown",
   "metadata": {},
   "source": [
    "### Exercise 2: Matrix Masking (2D)\n",
    "\n",
    "Replace all values in `x` greater than 5 with values from `src`."
   ]
  },
  {
   "cell_type": "code",
   "execution_count": 5,
   "metadata": {},
   "outputs": [
    {
     "data": {
      "text/plain": [
       "tensor([[  1, 100],\n",
       "        [200,   3]])"
      ]
     },
     "execution_count": 5,
     "metadata": {},
     "output_type": "execute_result"
    }
   ],
   "source": [
    "x = torch.tensor([\n",
    "    [1, 6],\n",
    "    [7, 3]\n",
    "])\n",
    "src = torch.tensor([100, 200])\n",
    "\n",
    "# TODO: Replace elements > 5\n",
    "mask = x > 5\n",
    "\n",
    "result = torch.masked_scatter(x, mask, src) # Because x and src are broadcasted\n",
    "result"
   ]
  },
  {
   "cell_type": "markdown",
   "metadata": {},
   "source": [
    "### Exercise 3: In-Place Masked Scatter\n",
    "\n",
    "Do an in-place masked scatter on a tensor `x` where values divisible by 3 should be replaced with values from `src`."
   ]
  },
  {
   "cell_type": "code",
   "execution_count": 8,
   "metadata": {},
   "outputs": [
    {
     "data": {
      "text/plain": [
       "tensor([111,   5, 222,   7, 333])"
      ]
     },
     "execution_count": 8,
     "metadata": {},
     "output_type": "execute_result"
    }
   ],
   "source": [
    "x = torch.tensor([3, 5, 6, 7, 9])\n",
    "src = torch.tensor([111, 222, 333])\n",
    "\n",
    "# TODO: Replace divisible-by-3 elements using in-place op\n",
    "mask = (x % 3 == 0)\n",
    "result = torch.masked_scatter(x, mask, src)\n",
    "result"
   ]
  }
 ],
 "metadata": {
  "kernelspec": {
   "display_name": "qwen2vl",
   "language": "python",
   "name": "python3"
  },
  "language_info": {
   "codemirror_mode": {
    "name": "ipython",
    "version": 3
   },
   "file_extension": ".py",
   "mimetype": "text/x-python",
   "name": "python",
   "nbconvert_exporter": "python",
   "pygments_lexer": "ipython3",
   "version": "3.10.0"
  }
 },
 "nbformat": 4,
 "nbformat_minor": 2
}
